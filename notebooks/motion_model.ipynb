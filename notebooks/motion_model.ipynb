{
 "cells": [
  {
   "cell_type": "code",
   "execution_count": 2,
   "outputs": [],
   "source": [
    "import pandas as pd\n",
    "import numpy as np\n",
    "from matplotlib import pyplot as plt\n",
    "import os\n",
    "os.chdir('..')\n",
    "from src.dataloader.tracklet_loader import Tracklet\n"
   ],
   "metadata": {
    "collapsed": false,
    "pycharm": {
     "name": "#%%\n"
    }
   }
  },
  {
   "cell_type": "code",
   "execution_count": 3,
   "outputs": [],
   "source": [
    "dmr = '/home/group-cvg/cvg-students/sshah/d_m_r'\n",
    "motion_data_path = os.path.join('data', 'motion_model', 'gt','train','seq_30','batches.txt')"
   ],
   "metadata": {
    "collapsed": false,
    "pycharm": {
     "name": "#%%\n"
    }
   }
  },
  {
   "cell_type": "code",
   "execution_count": 4,
   "outputs": [],
   "source": [
    "batch_df = pd.read_csv(os.path.join(dmr, motion_data_path))"
   ],
   "metadata": {
    "collapsed": false,
    "pycharm": {
     "name": "#%%\n"
    }
   }
  },
  {
   "cell_type": "code",
   "execution_count": 5,
   "outputs": [
    {
     "data": {
      "text/plain": "   index  t  id     x    y    w    h  c  d        e  new_id             seq  \\\n0      0  1   1  1363  569  103  241  1  1  0.86014       1  MOT17-04-FRCNN   \n1     54  2   1  1362  568  103  241  1  1  0.86173       1  MOT17-04-FRCNN   \n2     84  3   1  1362  568  103  241  1  1  0.86173       1  MOT17-04-FRCNN   \n3    128  4   1  1362  568  103  241  1  1  0.86173       1  MOT17-04-FRCNN   \n4    172  5   1  1362  568  103  241  1  1  0.86173       1  MOT17-04-FRCNN   \n\n   b_idx  \n0      0  \n1      0  \n2      0  \n3      0  \n4      0  ",
      "text/html": "<div>\n<style scoped>\n    .dataframe tbody tr th:only-of-type {\n        vertical-align: middle;\n    }\n\n    .dataframe tbody tr th {\n        vertical-align: top;\n    }\n\n    .dataframe thead th {\n        text-align: right;\n    }\n</style>\n<table border=\"1\" class=\"dataframe\">\n  <thead>\n    <tr style=\"text-align: right;\">\n      <th></th>\n      <th>index</th>\n      <th>t</th>\n      <th>id</th>\n      <th>x</th>\n      <th>y</th>\n      <th>w</th>\n      <th>h</th>\n      <th>c</th>\n      <th>d</th>\n      <th>e</th>\n      <th>new_id</th>\n      <th>seq</th>\n      <th>b_idx</th>\n    </tr>\n  </thead>\n  <tbody>\n    <tr>\n      <th>0</th>\n      <td>0</td>\n      <td>1</td>\n      <td>1</td>\n      <td>1363</td>\n      <td>569</td>\n      <td>103</td>\n      <td>241</td>\n      <td>1</td>\n      <td>1</td>\n      <td>0.86014</td>\n      <td>1</td>\n      <td>MOT17-04-FRCNN</td>\n      <td>0</td>\n    </tr>\n    <tr>\n      <th>1</th>\n      <td>54</td>\n      <td>2</td>\n      <td>1</td>\n      <td>1362</td>\n      <td>568</td>\n      <td>103</td>\n      <td>241</td>\n      <td>1</td>\n      <td>1</td>\n      <td>0.86173</td>\n      <td>1</td>\n      <td>MOT17-04-FRCNN</td>\n      <td>0</td>\n    </tr>\n    <tr>\n      <th>2</th>\n      <td>84</td>\n      <td>3</td>\n      <td>1</td>\n      <td>1362</td>\n      <td>568</td>\n      <td>103</td>\n      <td>241</td>\n      <td>1</td>\n      <td>1</td>\n      <td>0.86173</td>\n      <td>1</td>\n      <td>MOT17-04-FRCNN</td>\n      <td>0</td>\n    </tr>\n    <tr>\n      <th>3</th>\n      <td>128</td>\n      <td>4</td>\n      <td>1</td>\n      <td>1362</td>\n      <td>568</td>\n      <td>103</td>\n      <td>241</td>\n      <td>1</td>\n      <td>1</td>\n      <td>0.86173</td>\n      <td>1</td>\n      <td>MOT17-04-FRCNN</td>\n      <td>0</td>\n    </tr>\n    <tr>\n      <th>4</th>\n      <td>172</td>\n      <td>5</td>\n      <td>1</td>\n      <td>1362</td>\n      <td>568</td>\n      <td>103</td>\n      <td>241</td>\n      <td>1</td>\n      <td>1</td>\n      <td>0.86173</td>\n      <td>1</td>\n      <td>MOT17-04-FRCNN</td>\n      <td>0</td>\n    </tr>\n  </tbody>\n</table>\n</div>"
     },
     "execution_count": 5,
     "metadata": {},
     "output_type": "execute_result"
    }
   ],
   "source": [
    "batch_df.head()"
   ],
   "metadata": {
    "collapsed": false,
    "pycharm": {
     "name": "#%%\n"
    }
   }
  },
  {
   "cell_type": "code",
   "execution_count": 6,
   "outputs": [],
   "source": [
    "tracklet_dataset = Tracklet(mode='train',N=30,dmr_path=dmr)"
   ],
   "metadata": {
    "collapsed": false,
    "pycharm": {
     "name": "#%%\n"
    }
   }
  },
  {
   "cell_type": "code",
   "execution_count": 7,
   "outputs": [],
   "source": [
    "b = tracklet_dataset[90001]"
   ],
   "metadata": {
    "collapsed": false,
    "pycharm": {
     "name": "#%%\n"
    }
   }
  },
  {
   "cell_type": "code",
   "execution_count": 8,
   "outputs": [],
   "source": [
    "center_vel = b[0][:]"
   ],
   "metadata": {
    "collapsed": false,
    "pycharm": {
     "name": "#%%\n"
    }
   }
  },
  {
   "cell_type": "code",
   "execution_count": 9,
   "outputs": [
    {
     "data": {
      "text/plain": "[<matplotlib.lines.Line2D at 0x7f50c8b5b8e0>,\n <matplotlib.lines.Line2D at 0x7f50c8b5b880>]"
     },
     "execution_count": 9,
     "metadata": {},
     "output_type": "execute_result"
    },
    {
     "data": {
      "text/plain": "<Figure size 432x288 with 1 Axes>",
      "image/png": "[encoded data removed]"
     },
     "metadata": {
      "needs_background": "light"
     },
     "output_type": "display_data"
    }
   ],
   "source": [
    "plt.plot(center_vel[:,2:])"
   ],
   "metadata": {
    "collapsed": false,
    "pycharm": {
     "name": "#%%\n"
    }
   }
  },
  {
   "cell_type": "code",
   "execution_count": 26,
   "outputs": [
    {
     "data": {
      "text/plain": "tensor([7.7321, 1.0179, 3.2500, 2.2500])"
     },
     "execution_count": 26,
     "metadata": {},
     "output_type": "execute_result"
    }
   ],
   "source": [
    "b[0].mean(0)"
   ],
   "metadata": {
    "collapsed": false,
    "pycharm": {
     "name": "#%%\n"
    }
   }
  },
  {
   "cell_type": "code",
   "execution_count": 27,
   "outputs": [
    {
     "data": {
      "text/plain": "tensor([[ 455.0000, 1429.0000,  594.5000,  114.0000,  347.0000],\n        [ 456.0000, 1437.5000,  596.5000,  125.0000,  349.0000],\n        [ 457.0000, 1446.0000,  598.5000,  136.0000,  351.0000],\n        [ 458.0000, 1455.0000,  601.0000,  146.0000,  354.0000],\n        [ 459.0000, 1462.5000,  603.0000,  151.0000,  356.0000],\n        [ 460.0000, 1470.0000,  605.0000,  156.0000,  358.0000],\n        [ 461.0000, 1477.5000,  607.0000,  161.0000,  360.0000],\n        [ 462.0000, 1485.5000,  609.5000,  165.0000,  363.0000],\n        [ 463.0000, 1489.5000,  609.0000,  161.0000,  366.0000],\n        [ 464.0000, 1493.5000,  609.0000,  157.0000,  370.0000],\n        [ 465.0000, 1497.5000,  608.5000,  153.0000,  373.0000],\n        [ 466.0000, 1502.0000,  608.5000,  150.0000,  377.0000],\n        [ 467.0000, 1509.5000,  607.5000,  141.0000,  379.0000],\n        [ 468.0000, 1517.0000,  607.0000,  132.0000,  380.0000],\n        [ 469.0000, 1524.5000,  606.0000,  123.0000,  382.0000],\n        [ 470.0000, 1532.0000,  605.5000,  114.0000,  383.0000],\n        [ 471.0000, 1540.0000,  605.5000,  104.0000,  385.0000],\n        [ 472.0000, 1548.0000,  606.0000,  112.0000,  386.0000],\n        [ 473.0000, 1556.5000,  607.0000,  119.0000,  388.0000],\n        [ 474.0000, 1565.0000,  607.5000,  126.0000,  389.0000],\n        [ 475.0000, 1573.5000,  608.5000,  133.0000,  391.0000],\n        [ 476.0000, 1584.0000,  609.5000,  148.0000,  393.0000],\n        [ 477.0000, 1595.0000,  610.5000,  164.0000,  395.0000],\n        [ 478.0000, 1605.5000,  612.5000,  179.0000,  397.0000],\n        [ 479.0000, 1616.5000,  613.5000,  195.0000,  399.0000],\n        [ 480.0000, 1628.0000,  615.5000,  210.0000,  401.0000],\n        [ 481.0000, 1633.5000,  618.0000,  209.0000,  404.0000],\n        [ 482.0000, 1639.5000,  620.5000,  207.0000,  407.0000],\n        [ 483.0000, 1645.5000,  623.0000,  205.0000,  410.0000],\n        [ 484.0000, 1651.5000,  626.0000,  203.0000,  414.0000]])"
     },
     "execution_count": 27,
     "metadata": {},
     "output_type": "execute_result"
    }
   ],
   "source": [
    "b[3]"
   ],
   "metadata": {
    "collapsed": false,
    "pycharm": {
     "name": "#%%\n"
    }
   }
  },
  {
   "cell_type": "code",
   "execution_count": null,
   "outputs": [],
   "source": [],
   "metadata": {
    "collapsed": false,
    "pycharm": {
     "name": "#%%\n"
    }
   }
  }
 ],
 "metadata": {
  "kernelspec": {
   "display_name": "Python 3",
   "language": "python",
   "name": "python3"
  },
  "language_info": {
   "codemirror_mode": {
    "name": "ipython",
    "version": 2
   },
   "file_extension": ".py",
   "mimetype": "text/x-python",
   "name": "python",
   "nbconvert_exporter": "python",
   "pygments_lexer": "ipython2",
   "version": "2.7.6"
  }
 },
 "nbformat": 4,
 "nbformat_minor": 0
}